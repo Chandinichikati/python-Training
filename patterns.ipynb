{
 "cells": [
  {
   "cell_type": "code",
   "execution_count": 1,
   "id": "3affbbed-be91-4048-8191-1b16f50fcbeb",
   "metadata": {},
   "outputs": [
    {
     "name": "stdin",
     "output_type": "stream",
     "text": [
      " 4\n"
     ]
    },
    {
     "name": "stdout",
     "output_type": "stream",
     "text": [
      "*\n",
      "**\n",
      "***\n",
      "****\n"
     ]
    }
   ],
   "source": [
    "n=int(input())\n",
    "for i in range(n):\n",
    "    for j in range(0,i+1):\n",
    "        print(\"*\",end=\"\")\n",
    "    print()"
   ]
  },
  {
   "cell_type": "code",
   "execution_count": 1,
   "id": "32cdedb9-85d7-4e90-bde4-34c23224933b",
   "metadata": {},
   "outputs": [
    {
     "name": "stdin",
     "output_type": "stream",
     "text": [
      " 4\n"
     ]
    },
    {
     "name": "stdout",
     "output_type": "stream",
     "text": [
      "1\n",
      "12\n",
      "123\n",
      "1234\n"
     ]
    }
   ],
   "source": [
    "n=int(input())\n",
    "for i in range(n):\n",
    "    for j in range(i+1):\n",
    "        print(j+1,end=\"\")\n",
    "    print()\n",
    "    "
   ]
  },
  {
   "cell_type": "code",
   "execution_count": 2,
   "id": "f9982ce9-dbb8-41ba-aede-bfc18f9929d6",
   "metadata": {},
   "outputs": [
    {
     "name": "stdin",
     "output_type": "stream",
     "text": [
      " 4\n"
     ]
    },
    {
     "name": "stdout",
     "output_type": "stream",
     "text": [
      "****\n",
      "****\n",
      "****\n",
      "****\n"
     ]
    }
   ],
   "source": [
    "n=int(input())\n",
    "for i in range (1,n+1):\n",
    "    for j in range (1,n+1):\n",
    "        print(\"*\",end=\"\")\n",
    "    print()"
   ]
  },
  {
   "cell_type": "code",
   "execution_count": 3,
   "id": "149f5889-1af6-4ad6-8c9c-f7d1f1cb4c01",
   "metadata": {},
   "outputs": [
    {
     "name": "stdin",
     "output_type": "stream",
     "text": [
      " 5\n"
     ]
    },
    {
     "name": "stdout",
     "output_type": "stream",
     "text": [
      "*****\n",
      " *****\n",
      "  *****\n",
      "   *****\n",
      "    *****\n"
     ]
    }
   ],
   "source": [
    "n=int(input())\n",
    "sp=0\n",
    "for i in range(n):\n",
    "    for j in range(sp):\n",
    "        print(\" \",end=\"\")\n",
    "    for j in range(n):\n",
    "        print(\"*\",end=\"\")\n",
    "    print()\n",
    "    sp=sp+1"
   ]
  },
  {
   "cell_type": "code",
   "execution_count": 4,
   "id": "d3842bd2-5956-4dec-a68d-e4f9c87918e2",
   "metadata": {},
   "outputs": [
    {
     "name": "stdin",
     "output_type": "stream",
     "text": [
      " 5\n"
     ]
    },
    {
     "name": "stdout",
     "output_type": "stream",
     "text": [
      "*****\n",
      "****\n",
      "***\n",
      "**\n",
      "*\n"
     ]
    }
   ],
   "source": [
    "n=int(input())\n",
    "for i in range(n):\n",
    "    for j in range(i,n):\n",
    "        print(\"*\",end=\"\")\n",
    "    print()"
   ]
  },
  {
   "cell_type": "code",
   "execution_count": 5,
   "id": "a824bb82-c848-4daf-9fc2-974852491140",
   "metadata": {},
   "outputs": [
    {
     "name": "stdin",
     "output_type": "stream",
     "text": [
      " 3\n"
     ]
    },
    {
     "name": "stdout",
     "output_type": "stream",
     "text": [
      "  *\n",
      " **\n",
      "***\n"
     ]
    }
   ],
   "source": [
    "n=int(input())\n",
    "sp=n-1\n",
    "\n",
    "for i in range(n):\n",
    "    for j in range(sp):\n",
    "        print(\" \",end=\"\")\n",
    "    for j in range(i+1):\n",
    "        print(\"*\",end=\"\")\n",
    "    print()\n",
    "    sp=sp-1\n"
   ]
  },
  {
   "cell_type": "code",
   "execution_count": 6,
   "id": "4e91317f-4f08-4c6d-a234-7e22cbf7ab26",
   "metadata": {},
   "outputs": [
    {
     "name": "stdin",
     "output_type": "stream",
     "text": [
      " 6\n"
     ]
    },
    {
     "name": "stdout",
     "output_type": "stream",
     "text": [
      "     1\n",
      "    12\n",
      "   123\n",
      "  1234\n",
      " 12345\n",
      "123456\n"
     ]
    }
   ],
   "source": [
    "n=int(input())\n",
    "sp=n-1\n",
    "\n",
    "for i in range(n):\n",
    "    for j in range(sp):\n",
    "        print(\" \",end=\"\")\n",
    "    for j in range(i+1):\n",
    "        print(j+1,end=\"\")\n",
    "    print()\n",
    "    sp=sp-1"
   ]
  },
  {
   "cell_type": "code",
   "execution_count": 7,
   "id": "705742c4-78eb-43b8-b71b-34ab522a449f",
   "metadata": {},
   "outputs": [
    {
     "name": "stdin",
     "output_type": "stream",
     "text": [
      " 6\n"
     ]
    },
    {
     "name": "stdout",
     "output_type": "stream",
     "text": [
      "******\n",
      " *****\n",
      "  ****\n",
      "   ***\n",
      "    **\n",
      "     *\n"
     ]
    }
   ],
   "source": [
    "n=int(input())\n",
    "sp=n\n",
    "for i in range(n):\n",
    "    for l in range(i):\n",
    "        print(\" \",end=\"\")\n",
    "    for j in range(sp):\n",
    "        print(\"*\",end=\"\")\n",
    "    print()\n",
    "    sp-=1"
   ]
  },
  {
   "cell_type": "code",
   "execution_count": 8,
   "id": "89d50d0c-638d-418e-982c-eae1dc3570fe",
   "metadata": {},
   "outputs": [
    {
     "name": "stdin",
     "output_type": "stream",
     "text": [
      " 5\n"
     ]
    },
    {
     "name": "stdout",
     "output_type": "stream",
     "text": [
      "    *\n",
      "   ***\n",
      "  *****\n",
      " *******\n",
      "*********\n"
     ]
    }
   ],
   "source": [
    "n=int(input())\n",
    "sp=n-1\n",
    "for i in range(1,n+1):\n",
    "    for sp in range(i,n):\n",
    "        print(\" \",end=\"\")\n",
    "    for j in range(1,i*2):\n",
    "        print(\"*\",end=\"\")\n",
    "    print()\n",
    "    sp=sp-1"
   ]
  },
  {
   "cell_type": "code",
   "execution_count": 9,
   "id": "7c44eb2e-9e9f-4499-8053-e3fe8fe867e8",
   "metadata": {},
   "outputs": [
    {
     "name": "stdin",
     "output_type": "stream",
     "text": [
      " 5\n"
     ]
    },
    {
     "name": "stdout",
     "output_type": "stream",
     "text": [
      "*********\n",
      " *******\n",
      "  *****\n",
      "   ***\n",
      "    *\n"
     ]
    }
   ],
   "source": [
    "n=int(input())\n",
    "sp=0\n",
    "for i in range(n,0,-1):\n",
    "    for sp in range(i,n):\n",
    "        print(\" \",end=\"\")\n",
    "    for j in range(1,2*i):\n",
    "        print(\"*\",end=\"\")\n",
    "    print()\n",
    "    sp=sp+1"
   ]
  },
  {
   "cell_type": "code",
   "execution_count": 10,
   "id": "3ae69494-c66b-45cb-9a93-330d72e94f84",
   "metadata": {},
   "outputs": [
    {
     "name": "stdin",
     "output_type": "stream",
     "text": [
      " 5\n"
     ]
    },
    {
     "name": "stdout",
     "output_type": "stream",
     "text": [
      "    1\n",
      "   123\n",
      "  12345\n",
      " 1234567\n",
      "123456789\n"
     ]
    }
   ],
   "source": [
    "n=int(input())\n",
    "sp=n-1\n",
    "for i in range(1,n+1):\n",
    "    for sp in range(i,n):\n",
    "        print(\" \",end=\"\")\n",
    "    for j in range(1,i*2):\n",
    "        print(j,end=\"\")\n",
    "    print()\n",
    "    sp=sp-1"
   ]
  },
  {
   "cell_type": "code",
   "execution_count": 11,
   "id": "3d8ded2a-a9d2-49c2-b013-0d58da6e1898",
   "metadata": {},
   "outputs": [
    {
     "name": "stdin",
     "output_type": "stream",
     "text": [
      " 8\n"
     ]
    },
    {
     "name": "stdout",
     "output_type": "stream",
     "text": [
      "1 2 3 4 5 6 7 8 9 10 11 12 13 14 15 \n",
      "  1 2 3 4 5 6 7 8 9 10 11 12 13 \n",
      "    1 2 3 4 5 6 7 8 9 10 11 \n",
      "      1 2 3 4 5 6 7 8 9 \n",
      "        1 2 3 4 5 6 7 \n",
      "          1 2 3 4 5 \n",
      "            1 2 3 \n",
      "              1 \n"
     ]
    }
   ],
   "source": [
    "n=int(input())\n",
    "sp=0\n",
    "for i in range(n,0,-1):\n",
    "    for sp in range(i,n):\n",
    "        print(\" \",end=\" \")\n",
    "    for j in range(1,2*i):\n",
    "        print(j,end=\" \")\n",
    "    print()\n",
    "    sp=sp+1"
   ]
  },
  {
   "cell_type": "code",
   "execution_count": 12,
   "id": "9ae75f7d-862a-437a-a88a-f353308c5bf9",
   "metadata": {},
   "outputs": [
    {
     "name": "stdin",
     "output_type": "stream",
     "text": [
      " 5\n"
     ]
    },
    {
     "name": "stdout",
     "output_type": "stream",
     "text": [
      "10 \n",
      "20 30 \n",
      "40 50 60 \n",
      "70 80 90 100 \n",
      "110 120 130 140 150 \n"
     ]
    }
   ],
   "source": [
    "n=int(input())\n",
    "val=10\n",
    "for i in range(n):\n",
    "    for j in range(i+1):\n",
    "        print(val,end=\" \")\n",
    "        val+=10\n",
    "    print()"
   ]
  },
  {
   "cell_type": "code",
   "execution_count": 13,
   "id": "03e3b92b-4845-47e4-aacb-ea66753214f3",
   "metadata": {},
   "outputs": [
    {
     "name": "stdin",
     "output_type": "stream",
     "text": [
      " 6\n"
     ]
    },
    {
     "name": "stdout",
     "output_type": "stream",
     "text": [
      "*\n",
      "##\n",
      "***\n",
      "####\n",
      "*****\n",
      "######\n"
     ]
    }
   ],
   "source": [
    "n=int(input())\n",
    "for i in range(n):\n",
    "    for j in range(i+1):\n",
    "        if(i%2==0):\n",
    "            print(\"*\",end=\"\")\n",
    "        else:\n",
    "            print(\"#\",end=\"\")\n",
    "    print()"
   ]
  },
  {
   "cell_type": "code",
   "execution_count": 14,
   "id": "6f9afa3e-3f30-48ab-bc11-e94f6e93f5a2",
   "metadata": {},
   "outputs": [
    {
     "name": "stdin",
     "output_type": "stream",
     "text": [
      " 7\n"
     ]
    },
    {
     "name": "stdout",
     "output_type": "stream",
     "text": [
      "1 \n",
      "2 1 \n",
      "1 2 3 \n",
      "4 3 2 1 \n",
      "1 2 3 4 5 \n",
      "6 5 4 3 2 1 \n",
      "1 2 3 4 5 6 7 \n"
     ]
    }
   ],
   "source": [
    "n=int(input())\n",
    "for i in range(n):\n",
    "    if i%2==0:\n",
    "        for j in range(i+1):\n",
    "            print(j+1,end=\" \")\n",
    "    else:\n",
    "        for j in range(i+1,0,-1):\n",
    "            print(j,end=\" \")\n",
    "    print()\n",
    "    \n",
    "            "
   ]
  },
  {
   "cell_type": "code",
   "execution_count": 15,
   "id": "e26d0cee-14b8-4153-b08e-461aaced65c5",
   "metadata": {},
   "outputs": [
    {
     "name": "stdin",
     "output_type": "stream",
     "text": [
      " 6\n"
     ]
    },
    {
     "name": "stdout",
     "output_type": "stream",
     "text": [
      "1\n",
      "@@\n",
      "333\n",
      "@@@@\n",
      "55555\n",
      "@@@@@@\n"
     ]
    }
   ],
   "source": [
    "n=int(input())\n",
    "for i in range(n):\n",
    "    for j in range(i+1):\n",
    "        if(i%2==0):\n",
    "            print(i+1,end=\"\")\n",
    "        else:\n",
    "            print(\"@\",end=\"\")\n",
    "    print()\n"
   ]
  },
  {
   "cell_type": "code",
   "execution_count": 16,
   "id": "4d6ebbda-0861-4999-8ed9-336a46dc86d0",
   "metadata": {},
   "outputs": [
    {
     "name": "stdin",
     "output_type": "stream",
     "text": [
      " 8\n"
     ]
    },
    {
     "name": "stdout",
     "output_type": "stream",
     "text": [
      "A B C D E F G H \n",
      "  A B C D E F G \n",
      "    A B C D E F \n",
      "      A B C D E \n",
      "        A B C D \n",
      "          A B C \n",
      "            A B \n",
      "              A \n"
     ]
    }
   ],
   "source": [
    "n=int(input())\n",
    "r=0\n",
    "sp=n\n",
    "for i in range(n):\n",
    "    for j in range(r):\n",
    "        print(\" \",end=\" \")\n",
    "    for j in range(sp):\n",
    "        print(chr(j+65),end=\" \")\n",
    "\n",
    "    print()\n",
    "    r+=1\n",
    "    sp-=1\n",
    "    "
   ]
  },
  {
   "cell_type": "code",
   "execution_count": 17,
   "id": "c5f0e7a7-c78c-4c46-aaa9-2b951a701f2c",
   "metadata": {},
   "outputs": [
    {
     "name": "stdin",
     "output_type": "stream",
     "text": [
      " 6\n"
     ]
    },
    {
     "name": "stdout",
     "output_type": "stream",
     "text": [
      "* * * * * * * * * * * \n",
      "  * * * * * * * * * \n",
      "    * * * * * * * \n",
      "      * * * * * \n",
      "        * * * \n",
      "          * \n"
     ]
    }
   ],
   "source": [
    "n=int(input())\n",
    "sp=0\n",
    "for i in range(n,0,-1):\n",
    "    for sp in range(i,n):\n",
    "        print(\" \",end=\" \")\n",
    "    for j in range(1,2*i):\n",
    "        print(\"*\",end=\" \")\n",
    "    print( )\n",
    "    sp=sp+1"
   ]
  },
  {
   "cell_type": "code",
   "execution_count": 18,
   "id": "99e18be8-910d-4c4b-919e-0f7262d1aeac",
   "metadata": {},
   "outputs": [
    {
     "name": "stdin",
     "output_type": "stream",
     "text": [
      " 6\n"
     ]
    },
    {
     "name": "stdout",
     "output_type": "stream",
     "text": [
      "* * * * * * * * * * * \n",
      "  * * * * * * * * * \n",
      "    * * * * * * * \n",
      "      * * * * * \n",
      "        * * * \n",
      "          * \n"
     ]
    }
   ],
   "source": [
    "n=int(input())\n",
    "sp=0\n",
    "for i in range(n,0,-1):\n",
    "    for sp in range(i,n):\n",
    "        print(\" \",end=\" \")\n",
    "    for j in range(1,2*i):\n",
    "        print(\"*\",end=\" \")\n",
    "    print( )\n",
    "    sp=sp+1"
   ]
  },
  {
   "cell_type": "code",
   "execution_count": 19,
   "id": "2323532e-c587-40b8-8be6-a2412c697c0e",
   "metadata": {},
   "outputs": [
    {
     "name": "stdin",
     "output_type": "stream",
     "text": [
      " 7\n"
     ]
    },
    {
     "name": "stdout",
     "output_type": "stream",
     "text": [
      "            * \n",
      "          * * * \n",
      "        * * * * * \n",
      "      * * * * * * * \n",
      "    * * * * * * * * * \n",
      "  * * * * * * * * * * * \n",
      "* * * * * * * * * * * * * \n",
      "  * * * * * * * * * * * \n",
      "    * * * * * * * * * \n",
      "      * * * * * * * \n",
      "        * * * * * \n",
      "          * * * \n",
      "            * \n"
     ]
    }
   ],
   "source": [
    "n=int(input())\n",
    "sp=n-1\n",
    "for i in range(1,n):\n",
    "    for sp in range(i,n):\n",
    "        print(\" \",end=\" \")\n",
    "    for j in range(1,i*2):\n",
    "        print(\"*\",end=\" \")\n",
    "    print()\n",
    "    sp=sp-1\n",
    "sp=0\n",
    "for i in range(n,0,-1):\n",
    "    for sp in range(i,n):\n",
    "        print(\" \",end=\" \")\n",
    "    for j in range(1,2*i):\n",
    "        print(\"*\",end=\" \")\n",
    "    print()\n",
    "    sp=sp-1"
   ]
  },
  {
   "cell_type": "code",
   "execution_count": 20,
   "id": "e6aee8ae-5422-4795-a65f-b2408c83b786",
   "metadata": {},
   "outputs": [
    {
     "name": "stdin",
     "output_type": "stream",
     "text": [
      " 8\n"
     ]
    },
    {
     "name": "stdout",
     "output_type": "stream",
     "text": [
      "* * * * * * * * * * * * * * * \n",
      "  * * * * * * * * * * * * * \n",
      "    * * * * * * * * * * * \n",
      "      * * * * * * * * * \n",
      "        * * * * * * * \n",
      "          * * * * * \n",
      "            * * * \n",
      "              * \n",
      "            * * * \n",
      "          * * * * * \n",
      "        * * * * * * * \n",
      "      * * * * * * * * * \n",
      "    * * * * * * * * * * * \n",
      "  * * * * * * * * * * * * * \n",
      "* * * * * * * * * * * * * * * \n"
     ]
    }
   ],
   "source": [
    "n=int(input())\n",
    "sp=n\n",
    "for i in range(n):\n",
    "    for l in range(i):\n",
    "        print(\" \",end=\" \")\n",
    "    for j in range(1,sp*2):\n",
    "        print(\"*\",end=\" \")\n",
    "    print()\n",
    "    sp-=1\n",
    "b=n-1\n",
    "g=3\n",
    "for i in range(b):\n",
    "    for l in range(b-1):\n",
    "        print(\" \",end=\" \")\n",
    "    for j in range(g):\n",
    "        print(\"*\",end=\" \")\n",
    "    print()\n",
    "    b-=1\n",
    "    g+=2"
   ]
  },
  {
   "cell_type": "code",
   "execution_count": null,
   "id": "acc41ddb-1c3b-4669-b50f-fc4a7eca046c",
   "metadata": {},
   "outputs": [],
   "source": []
  }
 ],
 "metadata": {
  "kernelspec": {
   "display_name": "Python 3 (ipykernel)",
   "language": "python",
   "name": "python3"
  },
  "language_info": {
   "codemirror_mode": {
    "name": "ipython",
    "version": 3
   },
   "file_extension": ".py",
   "mimetype": "text/x-python",
   "name": "python",
   "nbconvert_exporter": "python",
   "pygments_lexer": "ipython3",
   "version": "3.12.4"
  }
 },
 "nbformat": 4,
 "nbformat_minor": 5
}
