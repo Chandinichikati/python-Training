{
 "cells": [
  {
   "cell_type": "code",
   "execution_count": 2,
   "id": "500ab0d6-a7b9-469a-8b1e-232b30ebef64",
   "metadata": {},
   "outputs": [
    {
     "name": "stdin",
     "output_type": "stream",
     "text": [
      "enter a value: 1 2 3 4 2\n",
      "enter a value: 2 3 5 \n"
     ]
    },
    {
     "name": "stdout",
     "output_type": "stream",
     "text": [
      "{'1', '4'}\n"
     ]
    }
   ],
   "source": [
    "a=set(input(\"enter a value:\"))\n",
    "b=set(input(\"enter a value:\"))\n",
    "print(a-b)"
   ]
  },
  {
   "cell_type": "code",
   "execution_count": 3,
   "id": "9287b548-39f3-4e30-8592-d298451a48ba",
   "metadata": {},
   "outputs": [
    {
     "name": "stdin",
     "output_type": "stream",
     "text": [
      "enter a value: 1 2 3 4 5 \n",
      "enter a value: 4 5 6\n"
     ]
    },
    {
     "name": "stdout",
     "output_type": "stream",
     "text": [
      "{'1', '3', '5', '6', '2', ' ', '4'}\n"
     ]
    }
   ],
   "source": [
    "a=set(input(\"enter a value:\"))\n",
    "b=set(input(\"enter a value:\"))\n",
    "print(a|b)\n",
    "            "
   ]
  },
  {
   "cell_type": "code",
   "execution_count": 4,
   "id": "992b0f9c-92e1-4f98-bd9a-dea42275dbf5",
   "metadata": {},
   "outputs": [
    {
     "name": "stdin",
     "output_type": "stream",
     "text": [
      "enter a value: 1 2 3 4 5 6 7\n",
      "enter a value: 4 5 6 7\n"
     ]
    },
    {
     "name": "stdout",
     "output_type": "stream",
     "text": [
      "{'6', '4', '7', ' ', '5'}\n"
     ]
    }
   ],
   "source": [
    "a=set(input(\"enter a value:\"))\n",
    "b=set(input(\"enter a value:\"))\n",
    "print(a&b)"
   ]
  },
  {
   "cell_type": "code",
   "execution_count": 5,
   "id": "73eb6a39-ca75-4305-a4cc-59596efa8f7a",
   "metadata": {},
   "outputs": [
    {
     "name": "stdin",
     "output_type": "stream",
     "text": [
      "enter a value: 1 2 3 4 5 6\n"
     ]
    },
    {
     "name": "stdout",
     "output_type": "stream",
     "text": [
      "6\n"
     ]
    }
   ],
   "source": [
    "a=set(input(\"enter a value:\"))\n",
    "print(max(a))"
   ]
  },
  {
   "cell_type": "code",
   "execution_count": 10,
   "id": "1b9b9cb9-611d-40d7-9682-2b2c0e6ff93c",
   "metadata": {},
   "outputs": [
    {
     "name": "stdout",
     "output_type": "stream",
     "text": [
      "1\n"
     ]
    }
   ],
   "source": [
    "a={1,2,3,4}\n",
    "print(min(a))"
   ]
  },
  {
   "cell_type": "code",
   "execution_count": 14,
   "id": "886d96d5-cff8-4c29-ace7-949cc5d1f47d",
   "metadata": {},
   "outputs": [
    {
     "name": "stdout",
     "output_type": "stream",
     "text": [
      "{1, 4, 5, 6}\n"
     ]
    }
   ],
   "source": [
    "a={1,2,3,4}\n",
    "b={2,3,5,6}\n",
    "print(a^b)"
   ]
  },
  {
   "cell_type": "code",
   "execution_count": 15,
   "id": "dbab4d04-c8ef-41f6-a20d-bc63d1d03c8c",
   "metadata": {},
   "outputs": [
    {
     "name": "stdout",
     "output_type": "stream",
     "text": [
      "{1, 2, 3, 4}\n"
     ]
    }
   ],
   "source": [
    "a={1,2,3,4}\n",
    "b=a.copy()\n",
    "print(a)\n"
   ]
  },
  {
   "cell_type": "code",
   "execution_count": null,
   "id": "e6892a1b-1483-442b-8bef-33380bddf626",
   "metadata": {},
   "outputs": [],
   "source": []
  }
 ],
 "metadata": {
  "kernelspec": {
   "display_name": "Python 3 (ipykernel)",
   "language": "python",
   "name": "python3"
  },
  "language_info": {
   "codemirror_mode": {
    "name": "ipython",
    "version": 3
   },
   "file_extension": ".py",
   "mimetype": "text/x-python",
   "name": "python",
   "nbconvert_exporter": "python",
   "pygments_lexer": "ipython3",
   "version": "3.12.4"
  }
 },
 "nbformat": 4,
 "nbformat_minor": 5
}
